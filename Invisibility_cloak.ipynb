{
 "cells": [
  {
   "cell_type": "code",
   "execution_count": 1,
   "metadata": {},
   "outputs": [],
   "source": [
    "import numpy as np\n",
    "import cv2 \n",
    "import time\n"
   ]
  },
  {
   "cell_type": "code",
   "execution_count": 2,
   "metadata": {},
   "outputs": [],
   "source": [
    "cap=cv2.VideoCapture(0)\n",
    "\n",
    "time.sleep(3)\n",
    "\n",
    "background=0\n",
    "\n",
    "for i in range(1,30):\n",
    "    ret,background=cap.read()\n",
    "\n",
    "background=np.flip(background,axis=1)\n",
    "\n",
    "\n",
    "while(cap.isOpened()):\n",
    "    ret,frame=cap.read()\n",
    "    \n",
    "    frame=np.flip(frame,axis=1)\n",
    "    \n",
    "    hsv=cv2.cvtColor(frame,cv2.COLOR_BGR2HSV)\n",
    "    \n",
    "    lower_red = np.array([0,120,70])\n",
    "    upper_red = np.array([10,255,255])\n",
    "\n",
    "    mask1 = cv2.inRange(hsv, lower_red, upper_red) \n",
    "      \n",
    "    lower_red = np.array([170,120,70])\n",
    "    upper_red = np.array([180,255,255])\n",
    "\n",
    "    mask2 = cv2.inRange(hsv, lower_red, upper_red) \n",
    "    \n",
    "    \n",
    "    mask1=mask1+mask2\n",
    "    \n",
    "    \n",
    "    mask1=cv2.morphologyEx(mask1,cv2.MORPH_OPEN,np.ones((3,3),np.uint8),iterations=3)\n",
    "    mask1=cv2.morphologyEx(mask1,cv2.MORPH_DILATE,np.ones((3,3),np.uint8),iterations=3)\n",
    "    \n",
    "    \n",
    "    mask2=cv2.bitwise_not(mask1)\n",
    "    \n",
    "    res1=cv2.bitwise_and(frame,frame,mask=mask2)\n",
    "    \n",
    "    res2=cv2.bitwise_and(background,background,mask=mask1)\n",
    "    \n",
    "    final_res=cv2.addWeighted(res1,1,res2,1,0)\n",
    "    \n",
    "    cv2.imshow(\"CLOAK OF INVISIBILITY  :)\", final_res) \n",
    "    \n",
    "    if cv2.waitKey(20) & 0xFF == ord('q'):\n",
    "            \n",
    "            break\n",
    "    \n",
    "cap.release()\n",
    "\n",
    "cv2.destroyAllWindows()"
   ]
  },
  {
   "cell_type": "code",
   "execution_count": null,
   "metadata": {},
   "outputs": [],
   "source": []
  },
  {
   "cell_type": "code",
   "execution_count": null,
   "metadata": {
    "jupyter": {
     "source_hidden": true
    }
   },
   "outputs": [],
   "source": []
  }
 ],
 "metadata": {
  "kernelspec": {
   "display_name": "Python 3",
   "language": "python",
   "name": "python3"
  },
  "language_info": {
   "codemirror_mode": {
    "name": "ipython",
    "version": 3
   },
   "file_extension": ".py",
   "mimetype": "text/x-python",
   "name": "python",
   "nbconvert_exporter": "python",
   "pygments_lexer": "ipython3",
   "version": "3.7.6"
  }
 },
 "nbformat": 4,
 "nbformat_minor": 4
}
